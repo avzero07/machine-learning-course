{
 "cells": [
  {
   "cell_type": "markdown",
   "metadata": {
    "deletable": false,
    "editable": false,
    "nbgrader": {
     "cell_type": "markdown",
     "checksum": "7f339b0a56e0b0d8f55503f61badc87e",
     "grade": false,
     "grade_id": "cell-8662c8f983b4ba91",
     "locked": true,
     "schema_version": 3,
     "solution": false,
     "task": false
    }
   },
   "source": [
    "# ELEC 400M / EECE 571M Assignment 3: Clustering\n",
    "(Again, this assignment drew inspiration from an assignment used in ECE 421 at the University of Toronto and kindly made available to us by the instructor; as well as from the problem set in our textbook Learning from Data.)\n",
    "\n",
    "In this assignment, you will implement and test methods for clustering that we have discussed in the course."
   ]
  },
  {
   "cell_type": "markdown",
   "metadata": {
    "deletable": false,
    "editable": false,
    "nbgrader": {
     "cell_type": "markdown",
     "checksum": "1563053b3e0d6bb3e66ac9befb4d9be9",
     "grade": false,
     "grade_id": "cell-814d7b3a3145c5e2",
     "locked": true,
     "schema_version": 3,
     "solution": false,
     "task": false
    }
   },
   "source": [
    "## Data Sets\n",
    "\n",
    "You will be working with two data sets:\n",
    "- data2D.npy\n",
    "- data100D.npy\n",
    "\n",
    "Each of the data sets has 10,000 data points, which are 2-dimensional and 100-dimensional, respectively."
   ]
  },
  {
   "cell_type": "code",
   "execution_count": null,
   "metadata": {
    "deletable": false,
    "editable": false,
    "nbgrader": {
     "cell_type": "code",
     "checksum": "4f389527c9e70ea5962a5fd71c9cc6e7",
     "grade": false,
     "grade_id": "cell-356f4913c5215d34",
     "locked": true,
     "schema_version": 3,
     "solution": false,
     "task": false
    }
   },
   "outputs": [],
   "source": [
    "%matplotlib inline\n",
    "import matplotlib.pyplot as plt\n",
    "import numpy as np\n"
   ]
  },
  {
   "cell_type": "markdown",
   "metadata": {
    "deletable": false,
    "editable": false,
    "nbgrader": {
     "cell_type": "markdown",
     "checksum": "288be6e2955581e6121107cfadfbf18d",
     "grade": false,
     "grade_id": "cell-6b2a3a61a2d8f47a",
     "locked": true,
     "schema_version": 3,
     "solution": false,
     "task": false
    }
   },
   "source": [
    "## K-Means algorithm [18 marks]\n",
    "\n",
    "You will first implement and test the K-means algorithm. "
   ]
  },
  {
   "cell_type": "markdown",
   "metadata": {
    "deletable": false,
    "editable": false,
    "nbgrader": {
     "cell_type": "markdown",
     "checksum": "ecbe7d2804233771b7bfa0a5eb26ba48",
     "grade": false,
     "grade_id": "cell-4a17c6c8d151f9be",
     "locked": true,
     "schema_version": 3,
     "solution": false,
     "task": false
    }
   },
   "source": [
    "### Implement the functions [5 marks]\n",
    "\n",
    "For this, you will only use functions from the NumPy library. You will implement four functions to realize the K-Means algorithm.\n",
    "\n",
    "- `distanceFunc`: This function accepts your data and cluster centers and returns the squared pairwise distances between data points and cluster centers. \n",
    "- `KMinit`: This function accepts your data and returns the initial cluster centres. You will use the \"greedy approach\" described on page 6-16 in the textbook, but instead of a randomly selected data point always pick the first entry in the data set as the first center. \n",
    "- `lossFunc`: This function accepts the squared pairwise distances between data points and cluster centers and returns the sum of cluster errors as defined in (6.5) in the textbook. \n",
    "- `KMmeans`: This function implements the K-Means algorithm as described in the textbook. It returns the cluster centers and the sum of cluster errors as defined in (6.5) in the textbook. "
   ]
  },
  {
   "cell_type": "code",
   "execution_count": null,
   "metadata": {
    "deletable": false,
    "nbgrader": {
     "cell_type": "code",
     "checksum": "3b7869ee668020064ebc226d0b38be62",
     "grade": true,
     "grade_id": "cell-674a92e0b7c295b1",
     "locked": false,
     "points": 1,
     "schema_version": 3,
     "solution": true,
     "task": false
    }
   },
   "outputs": [],
   "source": [
    "def distanceFunc(x, mu):\n",
    "    # Inputs  \n",
    "    # x: is an NxD data matrix (N observations and D dimensions)\n",
    "    # mu: is an KxD cluster center matrix (K cluster centers and D dimensions)\n",
    "    # Output\n",
    "    # pair_dist2: is the NxK matrix of squared pairwise distances\n",
    "    \n",
    "    # YOUR CODE HERE\n",
    "    raise NotImplementedError()"
   ]
  },
  {
   "cell_type": "code",
   "execution_count": null,
   "metadata": {
    "deletable": false,
    "nbgrader": {
     "cell_type": "code",
     "checksum": "d0f1d11a41eb5118987de39ac82128ca",
     "grade": true,
     "grade_id": "cell-89e8c925c1c63643",
     "locked": false,
     "points": 1,
     "schema_version": 3,
     "solution": true,
     "task": false
    }
   },
   "outputs": [],
   "source": [
    "def KMinit(x, K):\n",
    "    # Inputs\n",
    "    # x: is an NxD data matrix \n",
    "    # K: number of clusters\n",
    "    # Output\n",
    "    # mu: is the KxD matrix of initial cluster centers using the \"greedy approach\" described on page 6-16 in the textbook. \n",
    "    # Remark: Always pick the first entry in the data set as the first center. \n",
    "    \n",
    "    # YOUR CODE HERE\n",
    "    raise NotImplementedError()"
   ]
  },
  {
   "cell_type": "code",
   "execution_count": null,
   "metadata": {
    "deletable": false,
    "nbgrader": {
     "cell_type": "code",
     "checksum": "6c18a7d9e5120ac95b9e38fba08ad055",
     "grade": true,
     "grade_id": "cell-412c6c07a4cdd6f3",
     "locked": false,
     "points": 1,
     "schema_version": 3,
     "solution": true,
     "task": false
    }
   },
   "outputs": [],
   "source": [
    "def lossFunc(pair_dist2):\n",
    "    # Input \n",
    "    # pair_dist2: is an NxK matrix of squared pairwise distances\n",
    "    # Output\n",
    "    # loss: error as defined in (6.5) in the textbook\n",
    "    \n",
    "    # YOUR CODE HERE\n",
    "    raise NotImplementedError()"
   ]
  },
  {
   "cell_type": "code",
   "execution_count": null,
   "metadata": {
    "deletable": false,
    "nbgrader": {
     "cell_type": "code",
     "checksum": "0927de59bebb4753c6139b144a190bb0",
     "grade": true,
     "grade_id": "cell-9d5f76c86ea8218e",
     "locked": false,
     "points": 2,
     "schema_version": 3,
     "solution": true,
     "task": false
    }
   },
   "outputs": [],
   "source": [
    "def Kmeans(x,K):\n",
    "    # Inputs\n",
    "    # x: is an NxD data matrix \n",
    "    # K: number of clusters\n",
    "    # Outputs\n",
    "    # mu: is the KxD of cluster centers  \n",
    "    # loss: error as defined in (6.5) in the textbook \n",
    "    \n",
    "    # YOUR CODE HERE\n",
    "    raise NotImplementedError()\n",
    "    "
   ]
  },
  {
   "cell_type": "markdown",
   "metadata": {
    "deletable": false,
    "editable": false,
    "nbgrader": {
     "cell_type": "markdown",
     "checksum": "64a8adcf7058173b994b4d1fbffe8de2",
     "grade": false,
     "grade_id": "cell-72bbc1c9c2f79df6",
     "locked": true,
     "schema_version": 3,
     "solution": false,
     "task": false
    }
   },
   "source": [
    "### Test the functions [5 marks]\n",
    "\n",
    "Develop toy-sized test cases (create your own very small data set(s)) for all four functions and verify the correct operation. \n",
    "\n",
    "Use the code cell below to program the test cases and to print and/or plot the results as appropriate. \n",
    "\n",
    "Use the text cell below to describe your test cases and comment on the results."
   ]
  },
  {
   "cell_type": "code",
   "execution_count": null,
   "metadata": {
    "deletable": false,
    "nbgrader": {
     "cell_type": "code",
     "checksum": "178a72565eb4ba9327971d47880b9c78",
     "grade": true,
     "grade_id": "cell-ea626e31b1cf1aae",
     "locked": false,
     "points": 2,
     "schema_version": 3,
     "solution": true,
     "task": false
    }
   },
   "outputs": [],
   "source": [
    "# YOUR CODE HERE\n",
    "raise NotImplementedError()"
   ]
  },
  {
   "cell_type": "markdown",
   "metadata": {
    "deletable": false,
    "nbgrader": {
     "cell_type": "markdown",
     "checksum": "908b5040d1add5371e07cef0bb5c292b",
     "grade": true,
     "grade_id": "cell-6ab8d93e7bbca8f0",
     "locked": false,
     "points": 3,
     "schema_version": 3,
     "solution": true,
     "task": false
    }
   },
   "source": [
    "YOUR ANSWER HERE"
   ]
  },
  {
   "cell_type": "markdown",
   "metadata": {
    "deletable": false,
    "editable": false,
    "nbgrader": {
     "cell_type": "markdown",
     "checksum": "62568560d33c642f0bf81cdb18479ccd",
     "grade": false,
     "grade_id": "cell-1a95957e5593acea",
     "locked": true,
     "schema_version": 3,
     "solution": false,
     "task": false
    }
   },
   "source": [
    "### Run K-Means on 2D data set [4]\n",
    "\n",
    "Implement a script that runs the K-Means algorithm (using the functions above) with $K = 1, 2, 3, 4, 5$ for the data set data2D.npy.  \n",
    "\n",
    "The script should produce the following plots:\n",
    "- for each of these values of $K$, a 2D scatter plot of the data points colored by their cluster assignments plus the cluster centers\n",
    "- the K-means loss as a function of $K$"
   ]
  },
  {
   "cell_type": "code",
   "execution_count": null,
   "metadata": {
    "deletable": false,
    "nbgrader": {
     "cell_type": "code",
     "checksum": "3bb072e0b37ca1683285bf59d6dd86eb",
     "grade": true,
     "grade_id": "cell-fb638a762765947f",
     "locked": false,
     "points": 2,
     "schema_version": 3,
     "solution": true,
     "task": false
    }
   },
   "outputs": [],
   "source": [
    "# YOUR CODE HERE\n",
    "raise NotImplementedError()"
   ]
  },
  {
   "cell_type": "markdown",
   "metadata": {
    "deletable": false,
    "editable": false,
    "nbgrader": {
     "cell_type": "markdown",
     "checksum": "f1a73ec89043bedcc7ac5a298d840f68",
     "grade": false,
     "grade_id": "cell-3d6299870c9c035e",
     "locked": true,
     "schema_version": 3,
     "solution": false,
     "task": false
    }
   },
   "source": [
    "Discuss below on how many clusters you think is \"best\" and why? "
   ]
  },
  {
   "cell_type": "markdown",
   "metadata": {
    "deletable": false,
    "nbgrader": {
     "cell_type": "markdown",
     "checksum": "6a2e5571c3c2b35d3901ecc5b766af91",
     "grade": true,
     "grade_id": "cell-573caa230f2585ad",
     "locked": false,
     "points": 2,
     "schema_version": 3,
     "solution": true,
     "task": false
    }
   },
   "source": [
    "YOUR ANSWER HERE"
   ]
  },
  {
   "cell_type": "markdown",
   "metadata": {
    "deletable": false,
    "editable": false,
    "nbgrader": {
     "cell_type": "markdown",
     "checksum": "57acd523dffc0326a67e86648ca55493",
     "grade": false,
     "grade_id": "cell-1d12331316aa98ca",
     "locked": true,
     "schema_version": 3,
     "solution": false,
     "task": false
    }
   },
   "source": [
    "### Explore Gap statistics [4]\n",
    "\n",
    "Implement a script which does the following (using the functions implemented above).\n",
    "Generate benchmark random data of the same size as the 2D data set, uniformly over the smallest axis-aligned square containing the actual data. Run the K-Means algorithm on this random data for $K=1,2,3,4,5$. Repeat for 10 such random data sets to obtain the average K-Means error, $E_{in}^{rand}(K)$ as a function of $K$. Plot the average K-Means error and the \"gap statistic\" \n",
    "$$G(K)=\\log \\left[E_{in}^{rand}(K)\\right]-\\log \\left[E_{in}(K)\\right]$$\n",
    "as functions of $K$, where $E_{in}(K)$ is the K-Means error for the data set data2D.npy obtained above.\n",
    "\n",
    "Retain the initialization of the random generator as provided below."
   ]
  },
  {
   "cell_type": "code",
   "execution_count": null,
   "metadata": {
    "deletable": false,
    "nbgrader": {
     "cell_type": "code",
     "checksum": "31e644f5815cf911d75dd273a7e45e96",
     "grade": true,
     "grade_id": "cell-43c381de1d23a840",
     "locked": false,
     "points": 2,
     "schema_version": 3,
     "solution": true,
     "task": false
    }
   },
   "outputs": [],
   "source": [
    "np.random.seed(421)\n",
    "\n",
    "# YOUR CODE HERE\n",
    "raise NotImplementedError()\n"
   ]
  },
  {
   "cell_type": "markdown",
   "metadata": {
    "deletable": false,
    "editable": false,
    "nbgrader": {
     "cell_type": "markdown",
     "checksum": "5a462cd461dbb3e73fc3bef11c76de96",
     "grade": false,
     "grade_id": "cell-79e882a8133c89e1",
     "locked": true,
     "schema_version": 3,
     "solution": false,
     "task": false
    }
   },
   "source": [
    "Briefly explain the \"gap statistic\" and discuss on how many clusters you think is \"best\" based on the gap statisic and on how this compares with your result from above.  "
   ]
  },
  {
   "cell_type": "markdown",
   "metadata": {
    "deletable": false,
    "nbgrader": {
     "cell_type": "markdown",
     "checksum": "4b538900c7782ec1decc3be32652e87f",
     "grade": true,
     "grade_id": "cell-4338ccfab3040ac2",
     "locked": false,
     "points": 2,
     "schema_version": 3,
     "solution": true,
     "task": false
    }
   },
   "source": [
    "YOUR ANSWER HERE"
   ]
  },
  {
   "cell_type": "markdown",
   "metadata": {
    "deletable": false,
    "editable": false,
    "nbgrader": {
     "cell_type": "markdown",
     "checksum": "938127acda02756d54e49345aba91b4d",
     "grade": false,
     "grade_id": "cell-0d4b7d8fbd5f0bf8",
     "locked": true,
     "schema_version": 3,
     "solution": false,
     "task": false
    }
   },
   "source": [
    "## Soft-clustering with the Mixture of Gaussians [7 marks]\n",
    "\n",
    "Now you will implement and test soft-clustering using density estimation with Gaussian mixture models. For this you will use the functions from the scikit-learn library.\n",
    "\n",
    "First, write a script that, for the 2D data set data2D.npy,\n",
    "- estimates the parameters of the Gaussian mixture models with $K=3$ components,\n",
    "- plots the contours of the density,\n",
    "- plots the decision boundaries for clustering. \n",
    "\n",
    "In the markdown cell below, interpret what you see in the plot and compare with the plot for $K=3$ clusters for the K-Means algorithm above. "
   ]
  },
  {
   "cell_type": "code",
   "execution_count": null,
   "metadata": {
    "deletable": false,
    "nbgrader": {
     "cell_type": "code",
     "checksum": "3fb549b74cb8c09a1f9b5942958a2ce0",
     "grade": true,
     "grade_id": "cell-7275ba06fa3a3ff2",
     "locked": false,
     "points": 1,
     "schema_version": 3,
     "solution": true,
     "task": false
    }
   },
   "outputs": [],
   "source": [
    "# YOUR CODE HERE\n",
    "raise NotImplementedError()"
   ]
  },
  {
   "cell_type": "markdown",
   "metadata": {
    "deletable": false,
    "nbgrader": {
     "cell_type": "markdown",
     "checksum": "4481c0d14b5ad02910f741a12581609a",
     "grade": true,
     "grade_id": "cell-17028462cb90864e",
     "locked": false,
     "points": 1,
     "schema_version": 3,
     "solution": true,
     "task": false
    }
   },
   "source": [
    "YOUR ANSWER HERE"
   ]
  },
  {
   "cell_type": "markdown",
   "metadata": {
    "deletable": false,
    "editable": false,
    "nbgrader": {
     "cell_type": "markdown",
     "checksum": "11318313e54335859f12fb4ba2a10fa5",
     "grade": false,
     "grade_id": "cell-052cdc63c71aa175",
     "locked": true,
     "schema_version": 3,
     "solution": false,
     "task": false
    }
   },
   "source": [
    "Write a script that trains the Gaussian mixture model for the data set data2D.npy for $K=1,2,3,4,5$, and computes and plots the Bayesian Information Criterion (BIC) as a function of $K$.\n",
    "\n",
    "In the markdown cell below, explain the BIC and what model size it suggests, and compare with your result for the K-Means algorithm above. "
   ]
  },
  {
   "cell_type": "code",
   "execution_count": null,
   "metadata": {
    "deletable": false,
    "nbgrader": {
     "cell_type": "code",
     "checksum": "def0f1be56d5b51ab9a5a6a1074dd6fb",
     "grade": true,
     "grade_id": "cell-de199ca3e1f6c906",
     "locked": false,
     "points": 1,
     "schema_version": 3,
     "solution": true,
     "task": false
    }
   },
   "outputs": [],
   "source": [
    "# YOUR CODE HERE\n",
    "raise NotImplementedError()"
   ]
  },
  {
   "cell_type": "markdown",
   "metadata": {
    "deletable": false,
    "nbgrader": {
     "cell_type": "markdown",
     "checksum": "29145c8dc1060f207818bdb2036d3145",
     "grade": true,
     "grade_id": "cell-2fb4582590c766ed",
     "locked": false,
     "points": 1,
     "schema_version": 3,
     "solution": true,
     "task": false
    }
   },
   "source": [
    "YOUR ANSWER HERE"
   ]
  },
  {
   "cell_type": "markdown",
   "metadata": {
    "deletable": false,
    "editable": false,
    "nbgrader": {
     "cell_type": "markdown",
     "checksum": "8473980561687db539068591e5bda11c",
     "grade": false,
     "grade_id": "cell-636e2f8ad291d7d2",
     "locked": true,
     "schema_version": 3,
     "solution": false,
     "task": false
    }
   },
   "source": [
    "Implement a script that runs both the K-Means and the Gaussian mixture learning algorithms on data100D.npy for $K = \\{3,4,5,6,7,8\\}$ and plots the K-Means loss and the BIC as a function of $K$, respectively. \n",
    "Include the plots in the markdown cell below, and discuss how many clusters you think are within the dataset and compare the learnt results of K-means and Mixture of Gaussian approach.\n",
    "\n",
    "Remark: The Gaussian mixture learning may take some time to complete (10-30 mins).\n"
   ]
  },
  {
   "cell_type": "code",
   "execution_count": null,
   "metadata": {
    "deletable": false,
    "nbgrader": {
     "cell_type": "code",
     "checksum": "64b1277b1de4b3fb3a6df0d2e5c4f45e",
     "grade": true,
     "grade_id": "cell-75914a53358ef354",
     "locked": false,
     "points": 1,
     "schema_version": 3,
     "solution": true,
     "task": false
    }
   },
   "outputs": [],
   "source": [
    "# YOUR CODE HERE\n",
    "raise NotImplementedError()"
   ]
  },
  {
   "cell_type": "markdown",
   "metadata": {
    "deletable": false,
    "nbgrader": {
     "cell_type": "markdown",
     "checksum": "a53aa7beac92ef13be64f8d726ed9edb",
     "grade": true,
     "grade_id": "cell-26adab25f16a46ee",
     "locked": false,
     "points": 2,
     "schema_version": 3,
     "solution": true,
     "task": false
    }
   },
   "source": [
    "YOUR ANSWER HERE"
   ]
  }
 ],
 "metadata": {
  "kernelspec": {
   "display_name": "Python 3",
   "language": "python",
   "name": "python3"
  },
  "language_info": {
   "codemirror_mode": {
    "name": "ipython",
    "version": 3
   },
   "file_extension": ".py",
   "mimetype": "text/x-python",
   "name": "python",
   "nbconvert_exporter": "python",
   "pygments_lexer": "ipython3",
   "version": "3.7.3"
  }
 },
 "nbformat": 4,
 "nbformat_minor": 2
}
