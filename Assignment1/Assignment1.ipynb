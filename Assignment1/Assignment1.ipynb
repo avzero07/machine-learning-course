{
 "cells": [
  {
   "cell_type": "markdown",
   "metadata": {
    "deletable": false,
    "editable": false,
    "nbgrader": {
     "cell_type": "markdown",
     "checksum": "36eae6af6a8b8707f14906e588a3ee64",
     "grade": false,
     "grade_id": "cell-a5d8c8596524d405",
     "locked": true,
     "schema_version": 3,
     "solution": false,
     "task": false
    }
   },
   "source": [
    "# ELEC 400M / EECE 571M Assignment 1: Linear models for classification\n",
    "(This assignment is a modified version of an assignment used in ECE 421 at the University of Toronto and kindly made available to us by the instructor.)\n",
    "\n",
    "In this assignment, you will be using linear models discussed in the lectures to perform a binary classification task. You will compare the performances of linear classification and logistic regression using suitable training algorithms. The implementation will be done in python using functions from the NumPy library."
   ]
  },
  {
   "cell_type": "markdown",
   "metadata": {
    "deletable": false,
    "editable": false,
    "nbgrader": {
     "cell_type": "markdown",
     "checksum": "a9a8b3c4101c3b8441a31e218145894f",
     "grade": false,
     "grade_id": "cell-6a4eff1ae721ca9a",
     "locked": true,
     "schema_version": 3,
     "solution": false,
     "task": false
    }
   },
   "source": [
    "## Data Set\n",
    "We consider the dataset of images of letters contained in file notMNIST.npz. In particular, you will use a smaller dataset that only contains the images from two letter classes: “C” (the positive class) and “J” (the negative class). The images are of size 28 × 28 pixels. The figure below shows 20 randomly selected image samples for the letters “C” and “J”.\n",
    "\n",
    "![](sample_images.eps)\n",
    "\n",
    "You will apply the function `loadData` to generate the subset of images containing only letters “C” and “J”. This script organizes the total set of 3,745 images into maller subsets containing 3,500 training images, 100 validation images and 145 test images. Their use will be further specified in the problem descriptions below."
   ]
  },
  {
   "cell_type": "code",
   "execution_count": 1,
   "metadata": {
    "deletable": false,
    "editable": false,
    "nbgrader": {
     "cell_type": "code",
     "checksum": "734015703ccb840f57bb43468c573784",
     "grade": false,
     "grade_id": "cell-eef20adb07056077",
     "locked": true,
     "schema_version": 3,
     "solution": false,
     "task": false
    }
   },
   "outputs": [
    {
     "name": "stdout",
     "output_type": "stream",
     "text": [
      "Once deleted, variables cannot be recovered. Proceed (y/[n])? y\n"
     ]
    }
   ],
   "source": [
    "%reset\n",
    "%matplotlib inline\n",
    "import matplotlib.pyplot as plt\n",
    "import numpy as np"
   ]
  },
  {
   "cell_type": "code",
   "execution_count": 2,
   "metadata": {
    "deletable": false,
    "editable": false,
    "nbgrader": {
     "cell_type": "code",
     "checksum": "a07dc59b87c2b66db4da8655d72e3bf1",
     "grade": false,
     "grade_id": "cell-9d51b6e8a7c666a1",
     "locked": true,
     "schema_version": 3,
     "solution": false,
     "task": false
    }
   },
   "outputs": [],
   "source": [
    "def loadData():\n",
    "    with np.load('notMNIST.npz') as data:\n",
    "        Data, Target = data['images'], data['labels']\n",
    "        posClass = 2\n",
    "        negClass = 9\n",
    "        dataIndx = (Target==posClass) + (Target==negClass)\n",
    "        Data = Data[dataIndx]/255.0\n",
    "        Target = Target[dataIndx].reshape(-1, 1)\n",
    "        Target[Target==posClass] = 1\n",
    "        Target[Target==negClass] = 0\n",
    "        np.random.seed(1)\n",
    "        randIndx = np.arange(len(Data))\n",
    "        np.random.shuffle(randIndx)\n",
    "        Data, Target = Data[randIndx], Target[randIndx]\n",
    "        trainData, trainTarget = Data[:3500], Target[:3500]\n",
    "        validData, validTarget = Data[3500:3600], Target[3500:3600]\n",
    "        testData, testTarget = Data[3600:], Target[3600:]\n",
    "       \n",
    "    return trainData, validData, testData, trainTarget, validTarget, testTarget"
   ]
  },
  {
   "cell_type": "markdown",
   "metadata": {
    "deletable": false,
    "editable": false,
    "nbgrader": {
     "cell_type": "markdown",
     "checksum": "8f087958f088ae0145d1e68b806545c8",
     "grade": false,
     "grade_id": "cell-5b5bf0983e23b493",
     "locked": true,
     "schema_version": 3,
     "solution": false,
     "task": false
    }
   },
   "source": [
    "## Linear Classification\n",
    "\n",
    "The first classifier is the linear classifier \n",
    "$$\\hat{y}=\\mathrm{sign}\\left(\\sum_{i=0}^dw_ix_i\\right)\\,$$\n",
    "where $x_0=1$ so that $b=w_0x_0$ is the bias term and $x_1,\\ldots, x_d$ are the input features.\n",
    "The loss function for an input-output pair $(\\underline{x}_n,y_n)$ and given model parameters $\\underline{w}$ is \n",
    "$$L_n(\\underline{w})= \\mathbf{1}\\{\\hat{y}_n\\neq y_n\\}\\;.$$\n",
    "The total loss for $N$ samples is \n",
    "$$L(\\underline{w})= \\frac{1}{N}\\sum\\limits_{n=1}^N\\mathbf{1}\\{\\hat{y}_n\\neq y_n\\}\\;.$$\n",
    "\n",
    "\n",
    "\n",
    "### Notes on Classification\n",
    "* The classification should be based on the $d=28\\times 28=784$ intensity values in an image. This means that you need to flatten the 2D images to 1D input vectors $\\underline{x}$ of length 784.\n",
    "* The outputs $\\hat{y}$ of the perceptron model are from $\\{-1,+1\\}$, while the target variable from the data set is from $\\{0,1\\}$. You need to make adjustements to account for this difference, which can include adjusting the data type."
   ]
  },
  {
   "cell_type": "markdown",
   "metadata": {
    "deletable": false,
    "editable": false,
    "nbgrader": {
     "cell_type": "markdown",
     "checksum": "6af4e6b0785c4453b46bf6443a37c31b",
     "grade": false,
     "grade_id": "cell-39aa5707539633da",
     "locked": true,
     "schema_version": 3,
     "solution": false,
     "task": false
    }
   },
   "source": [
    "### Loss Function [2 points]\n",
    "\n",
    "Implement a function to compute the classification loss as defined above. The function has three input arguments: the weight vector, the feature vectors, and the labels. It returns the total loss associated with the input."
   ]
  },
  {
   "cell_type": "code",
   "execution_count": 3,
   "metadata": {
    "deletable": false,
    "nbgrader": {
     "cell_type": "code",
     "checksum": "818a490ac40937e4f87242012417534a",
     "grade": true,
     "grade_id": "cell-ae171a05a9de28c1",
     "locked": false,
     "points": 2,
     "schema_version": 3,
     "solution": true,
     "task": false
    }
   },
   "outputs": [],
   "source": [
    "def ErrorRate (w, x, y):\n",
    "    # Find y_cap\n",
    "    y_cap = ((np.matmul(x,w))>0).astype(int)\n",
    "    # Note: y_cap needs to be changed to [-1,1]\n",
    "    y_cap[y_cap<1]=-1\n",
    "    # Calculate Total Loss for N Samples\n",
    "    loss = (((y_cap!=y).astype(float)).sum())/y.size\n",
    "    return loss"
   ]
  },
  {
   "cell_type": "markdown",
   "metadata": {
    "deletable": false,
    "editable": false,
    "nbgrader": {
     "cell_type": "markdown",
     "checksum": "b9b449fbdd732dea70062ea3abde3e73",
     "grade": false,
     "grade_id": "cell-34e3d06afbbedc4e",
     "locked": true,
     "schema_version": 3,
     "solution": false,
     "task": false
    }
   },
   "source": [
    "### Perceptron Learning Algorithm [10 points]\n",
    "\n",
    "Implement a function for the perceptron learning algorithm (PLA) which accepts four arguments: an inital weight vector, the data, the labels, and the maximal number of iterations it executes. It is thus a version of the PLA is assured to terminate. The function returns the updated weight vector. "
   ]
  },
  {
   "cell_type": "code",
   "execution_count": 4,
   "metadata": {
    "deletable": false,
    "nbgrader": {
     "cell_type": "code",
     "checksum": "cfbe75572c9845886002b30c30286e90",
     "grade": true,
     "grade_id": "cell-8968d65ea48b9d30",
     "locked": false,
     "points": 5,
     "schema_version": 3,
     "solution": true,
     "task": false
    }
   },
   "outputs": [],
   "source": [
    "def PLA(w, x, y, maxIter):\n",
    "    # Start PLA Loop\n",
    "    while((maxIter>0)and(ErrorRate(w,x,y)>0)):\n",
    "        \n",
    "        # First Identify Misclassified Samples\n",
    "        y_cap = ((np.matmul(x,w))>0).astype(int)\n",
    "        # Note: y_cap needs to be changed to [-1,1]\n",
    "        y_cap[y_cap<1]=-1\n",
    "        r = (y_cap!=y).astype(int)\n",
    "        \n",
    "        # Pick Random Sample To Use for Weight Update\n",
    "        \n",
    "        # Create an Array to Store Indices of\n",
    "        # misclassified samples\n",
    "        s = np.zeros(r.sum())\n",
    "        \n",
    "        sInd = 0 #Index for s\n",
    "        i = r.shape[0] #Index for Inner Loop\n",
    "        while(i>0):\n",
    "            i-=1\n",
    "            if r[i][0]==1:\n",
    "                s[sInd]=i\n",
    "                sInd+=1\n",
    "        \n",
    "        # Pick Random Index\n",
    "        rInd = int(np.random.choice(s))\n",
    "        #Weight Update\n",
    "        tempx = x[rInd].reshape(x[rInd].shape[0],1)\n",
    "        w = np.add(w,(y[rInd][0]*(tempx)))\n",
    "        \n",
    "        maxIter-=1\n",
    "    return w"
   ]
  },
  {
   "cell_type": "markdown",
   "metadata": {
    "deletable": false,
    "editable": false,
    "nbgrader": {
     "cell_type": "markdown",
     "checksum": "27aa2ab61179ae69bfc9d3a3b4913d73",
     "grade": false,
     "grade_id": "cell-71e4ba41ec059bc8",
     "locked": true,
     "schema_version": 3,
     "solution": false,
     "task": false
    }
   },
   "source": [
    "Test the `PLA` function by training the classifier on the training data (`trainData`, `trainTarget`) with a maximum of 100 iterations, and measuring the cassification error using the testing data (`testData`, `testTarget`). Write the test script into the box below and let it print the classiciation error."
   ]
  },
  {
   "cell_type": "code",
   "execution_count": 5,
   "metadata": {
    "deletable": false,
    "nbgrader": {
     "cell_type": "code",
     "checksum": "97993999c368017a94b44290429d704a",
     "grade": true,
     "grade_id": "cell-f6ac3ead6dede7dc",
     "locked": false,
     "points": 5,
     "schema_version": 3,
     "solution": true,
     "task": false
    }
   },
   "outputs": [
    {
     "name": "stdout",
     "output_type": "stream",
     "text": [
      "The Classification Error using the testing data is 0.027586 or 2.758621%\n"
     ]
    }
   ],
   "source": [
    "d = loadData()\n",
    "trainData = d[0].reshape(3500,-1)\n",
    "trainData = np.append(np.ones((trainData.shape[0],1)),trainData,axis=1)\n",
    "\n",
    "validData = d[1].reshape(100,-1)\n",
    "testData = d[2].reshape(145,-1)\n",
    "testData = np.append(np.ones((testData.shape[0],1)),testData,axis=1)\n",
    "\n",
    "trainTarget = d[3].astype(int)\n",
    "trainTarget[trainTarget<1]=-1\n",
    "validTarget = d[4].astype(int)\n",
    "validTarget[validTarget<1]=-1\n",
    "testTarget = d[5].astype(int)\n",
    "testTarget[testTarget<1]=-1\n",
    "\n",
    "# Training with Train Data\n",
    "wPLA = PLA(np.zeros((785,1)),trainData,trainTarget,100) #Add 1 to w for bias\n",
    "\n",
    "# Test with Test Data\n",
    "EClassTest = ErrorRate(wPLA,testData,testTarget)\n",
    "print(\"The Classification Error using the testing data is {:f} or {:f}%\".format(EClassTest,EClassTest*100))"
   ]
  },
  {
   "cell_type": "markdown",
   "metadata": {
    "deletable": false,
    "editable": false,
    "nbgrader": {
     "cell_type": "markdown",
     "checksum": "d48a3c6c215801e25502e9d265edcd29",
     "grade": false,
     "grade_id": "cell-beeae3997a377968",
     "locked": true,
     "schema_version": 3,
     "solution": false,
     "task": false
    }
   },
   "source": [
    "### Pocket algorithm [14 points]\n",
    "\n",
    "Implement a function for the pocket algorithm which accepts three arguments: the data, the labels, and the number of iterations it executes. It should use the function `PLA` you developed above. It returns the updated weight vector.\n",
    "\n",
    "First, briefly describe how your pocket algorithm works, and how it calls the function `PLA` above."
   ]
  },
  {
   "cell_type": "markdown",
   "metadata": {
    "deletable": false,
    "nbgrader": {
     "cell_type": "markdown",
     "checksum": "6f36bbd3bd478262c9b7a824869b20c5",
     "grade": true,
     "grade_id": "cell-a8758f5f83e66912",
     "locked": false,
     "points": 2,
     "schema_version": 3,
     "solution": true,
     "task": false
    }
   },
   "source": [
    "**Answer:**\n",
    "\n",
    "The pocket function takes in input data (x), labels (y) and number of iterations (T) as arguments and returns weight vector $\\underline{w}$. The function has been designed to implement the following algorithm.\n",
    "\n",
    "1. Initialize weight vector, $\\underline{w}$ to all zeros and also set $\\underline{w}_{Pocket}$ to this.\n",
    "2. While T>0\n",
    "3. ---- Call the PLA function using $\\underline{w}$,x and y for **one** update to get $\\underline{w}_{new}$\n",
    "4. ---- Calculate $E_{New}$ which is the classification error $E_{in}\\left(\\underline{w}_{new}\\right)$\n",
    "5. ---- Calculate $E_{Pocket}$ which is the classification error $E_{in}\\left(\\underline{w}_{Pocket}\\right)$\n",
    "6. ---- If $E_{New}$ < $E_{Pocket}$ **:** Update $\\underline{w}_{Pocket}$ to $\\underline{w}_{new}$\n",
    "7. ---- Set $\\underline{w}$ to $\\underline{w}_{new}$ for the next iteration\n",
    "8. ---- Decrement T\n",
    "9. Return $\\underline{w}_{Pocket}$ at the end of T iterations\n",
    "\n",
    "The Pocket Algorithm continues to retain the \"best\" weight vector until there is an updated weight vector that reduces the classification error further. In case of data that is not linearly separable, PLA can keep varying between weight vectors and might not necessarily return the best. In such a scenario, running the pocket algorithm (over a large number of iterations) can at least yield the best set of weights that minimizes the classification error."
   ]
  },
  {
   "cell_type": "code",
   "execution_count": 6,
   "metadata": {
    "deletable": false,
    "nbgrader": {
     "cell_type": "code",
     "checksum": "9641cc289d555169a3b843903f1b5452",
     "grade": true,
     "grade_id": "cell-6db776985174dd90",
     "locked": false,
     "points": 5,
     "schema_version": 3,
     "solution": true,
     "task": false
    }
   },
   "outputs": [],
   "source": [
    "# Pocket Algorithm Implementation\n",
    "def pocket(x, y, T):\n",
    "    # Init Weight Vector\n",
    "    w = np.zeros((x.shape[1],1))\n",
    "    wPocket = np.copy(w)\n",
    "    while(T>0):\n",
    "        wNew = PLA(w,x,y,1)\n",
    "        ENew = ErrorRate(wNew,x,y)\n",
    "        EPocket = ErrorRate(wPocket,x,y)\n",
    "        if ENew < EPocket:\n",
    "            wPocket = np.copy(wNew)\n",
    "        w = np.copy(wNew)\n",
    "        T-=1\n",
    "    return w"
   ]
  },
  {
   "cell_type": "markdown",
   "metadata": {
    "deletable": false,
    "editable": false,
    "nbgrader": {
     "cell_type": "markdown",
     "checksum": "a5f59bdc0a619eaf1c7fbecc1850c6ca",
     "grade": false,
     "grade_id": "cell-d4700c0f8f5efa9b",
     "locked": true,
     "schema_version": 3,
     "solution": false,
     "task": false
    }
   },
   "source": [
    "Test the `pocket` function by training the classifier on the training data `(trainData, trainTarget)` with 100 iterations, and measuring the cassification error using the testing data `(testData, testTarget)`. Write the test script into the box below and let it print the classiciation error."
   ]
  },
  {
   "cell_type": "code",
   "execution_count": 7,
   "metadata": {
    "deletable": false,
    "nbgrader": {
     "cell_type": "code",
     "checksum": "75dcbaf25c695d58723ac914b8f11732",
     "grade": true,
     "grade_id": "cell-87a6bd87fb24fb25",
     "locked": false,
     "points": 5,
     "schema_version": 3,
     "solution": true,
     "task": false
    }
   },
   "outputs": [
    {
     "name": "stdout",
     "output_type": "stream",
     "text": [
      "The Classification Error using the testing data is 0.034483 or 3.448276% (Pocket)\n"
     ]
    }
   ],
   "source": [
    "# Training with Pocket Algorithm Using Train Data\n",
    "wPock = pocket(trainData,trainTarget,100)\n",
    "\n",
    "# Testing with Test Data\n",
    "EClassTestPocket = ErrorRate(wPock,testData,testTarget)\n",
    "print(\"The Classification Error using the testing data is {:f} or {:f}% (Pocket)\".format(EClassTestPocket,EClassTestPocket*100))"
   ]
  },
  {
   "cell_type": "markdown",
   "metadata": {
    "deletable": false,
    "editable": false,
    "nbgrader": {
     "cell_type": "markdown",
     "checksum": "f6a7ed57aa02cf3caa6db301fda7f05c",
     "grade": false,
     "grade_id": "cell-a22b06b71e7333b8",
     "locked": true,
     "schema_version": 3,
     "solution": false,
     "task": false
    }
   },
   "source": [
    "State the test error results for the PLA and pocket algorithm that you obtained. Briefly discuss if they are as you expected and why or why not."
   ]
  },
  {
   "cell_type": "markdown",
   "metadata": {
    "deletable": false,
    "nbgrader": {
     "cell_type": "markdown",
     "checksum": "2045865b533306dadc6541971809cc72",
     "grade": true,
     "grade_id": "cell-ee0749d36e1f6ba7",
     "locked": false,
     "points": 2,
     "schema_version": 3,
     "solution": true,
     "task": false
    }
   },
   "source": [
    "**Answer:**\n",
    "\n",
    "The PLA and Pocket Algorithm were each trained using the training set for 100 iterations. The trained weights were then used to classify the test dataset. The classification errors using the test dataset are as indicated in te table below.\n",
    "\n",
    "| Algorithm | Error (Testing Set) |\n",
    "|:---------:|:-------------------:|\n",
    "|    PLA    |       0.027586      |\n",
    "|   Pocket  |       0.034483      |\n",
    "\n",
    "One might've expected the Pocket algorithm to yield a better result. However,\n",
    "\n",
    "1. Both the PLA and Pocket Algorithm (which internally calls PLA) make weight updates based on a random selection of a misclassified sample. If the pseudo random number generator is not re-seeded and the algorithms above are once again trained on the same dataset, the results will be different.\n",
    "\n",
    "\n",
    "2. Considering the random selection being made, perhaps running each algorithm for more number of iterations could have illustrated the difference in behavior better.\n",
    "\n",
    "Considering these facts, the results for this test are not all that surprising.\n",
    "\n",
    "That said, in case of data that is not linearly separable, PLA can keep varying between weight vectors and might not necessarily return the best. In such a scenario, running the pocket algorithm (over a large number of iterations) can at least yield the best set of weights that minimizes the classification error."
   ]
  },
  {
   "cell_type": "markdown",
   "metadata": {
    "deletable": false,
    "editable": false,
    "nbgrader": {
     "cell_type": "markdown",
     "checksum": "a991507e56c1c7bb3a0f686df6e80515",
     "grade": false,
     "grade_id": "cell-e63e3e21f2a9ad08",
     "locked": true,
     "schema_version": 3,
     "solution": false,
     "task": false
    }
   },
   "source": [
    "## Logistic Regression\n",
    "\n",
    "The second classifier we consider is logistic regression.  Logistic regression computes the probability measure\n",
    "$$\\hat{y}=\\theta(\\underline{w}^T\\underline{x})$$\n",
    "for a feature vector $\\underline{x}$, where $\\theta(z)=\\mathrm{e}^s/(1+\\mathrm{e}^s)$ is the logistic function. Given $N$ data samples $\\underline{x}_n$ and labels $y_n$, the error measure for logistic regression is the binary cross-entropy loss\n",
    "$$L(\\underline{w})=\\frac{1}{N}\\sum\\limits_{n=1}^N\\left[-y_n\\log\\left(\\hat{y}(\\underline{x}_n)\\right)-(1-y_n)\\log\\left(1-\\hat{y}(\\underline{x}_n)\\right)\\right]\\;.$$\n",
    "For the following, you will consider the regularized loss function\n",
    "$$L_\\lambda(\\underline{w})=\\frac{1}{N}\\sum\\limits_{n=1}^N\\left[-y_n\\log\\left(\\hat{y}(\\underline{x}_n)\\right)-(1-y_n)\\log\\left(1-\\hat{y}(\\underline{x}_n)\\right)\\right]+\\frac{\\lambda}{2}\\|\\underline{w}\\|_2^2$$\n",
    "with the regularization parameter $\\lambda \\ge 0$. \n",
    "\n",
    "The training of the weight vector $\\underline{w}$ will be performed through batch gradient descent. \n"
   ]
  },
  {
   "cell_type": "markdown",
   "metadata": {
    "deletable": false,
    "editable": false,
    "nbgrader": {
     "cell_type": "markdown",
     "checksum": "db5e733b839e11cc95526c870678e2a1",
     "grade": false,
     "grade_id": "cell-68358d532c780cc5",
     "locked": true,
     "schema_version": 3,
     "solution": false,
     "task": false
    }
   },
   "source": [
    "# Loss function [3 points]\n",
    "\n",
    "Implement a function to compute the regularized cross-entropy loss as defined above. The function has four input arguments: the weight vector, the feature vectors, the labels, and the regularization parameter. It returns the regularized loss."
   ]
  },
  {
   "cell_type": "code",
   "execution_count": 8,
   "metadata": {
    "deletable": false,
    "nbgrader": {
     "cell_type": "code",
     "checksum": "364ced88d6193816c529eb80c8df2b34",
     "grade": true,
     "grade_id": "cell-aebbe742cfbb66f8",
     "locked": false,
     "points": 3,
     "schema_version": 3,
     "solution": true,
     "task": false
    }
   },
   "outputs": [],
   "source": [
    "def sigmoid(x):\n",
    "    return (1/(1+np.exp(-x)))\n",
    "\n",
    "# Regularized Cross Entropy Loss\n",
    "def crossEntropyLoss(w, x, y, reg):\n",
    "    theta = sigmoid(np.matmul(x,w))\n",
    "    loss = ((np.matmul((np.log(theta)).T,-1.0*y).item()-np.matmul((np.log(1-theta)).T,(-1.0*y)+1).item())/y.size)+(0.5*reg*np.ndarray.item(np.matmul(w.T,w)))\n",
    "    return loss"
   ]
  },
  {
   "cell_type": "markdown",
   "metadata": {
    "deletable": false,
    "editable": false,
    "nbgrader": {
     "cell_type": "markdown",
     "checksum": "e75d612d7fa35907b7240385d95df34f",
     "grade": false,
     "grade_id": "cell-8d0a18f2be2713da",
     "locked": true,
     "schema_version": 3,
     "solution": false,
     "task": false
    }
   },
   "source": [
    "### Gradient [4 points]\n",
    "\n",
    "Provide an analytical expression for the gradient of the regularized cross-entropy loss with respect to the weight vector."
   ]
  },
  {
   "cell_type": "markdown",
   "metadata": {
    "deletable": false,
    "nbgrader": {
     "cell_type": "markdown",
     "checksum": "b4d7b1b6eb20f9afc7eff02678dc1ec9",
     "grade": true,
     "grade_id": "cell-bea8165ab7196506",
     "locked": false,
     "points": 2,
     "schema_version": 3,
     "solution": true,
     "task": false
    }
   },
   "source": [
    "**Answer:**\n",
    "\n",
    "**Note:** All usage of $\\log$ refer to the natural logarithm.\n",
    "\n",
    "Given the regularized cross-entropy loss function,\n",
    "\n",
    "$$L_\\lambda(\\underline{w})=\\frac{1}{N}\\sum\\limits_{n=1}^N\\left[-y_n\\log\\left(\\hat{y}(\\underline{x}_n)\\right)-(1-y_n)\\log\\left(1-\\hat{y}(\\underline{x}_n)\\right)\\right]+\\frac{\\lambda}{2}\\|\\underline{w}\\|_2^2$$\n",
    "\n",
    "Where \n",
    "\n",
    "$$\\hat{y}=\\theta(\\underline{w}^T\\underline{x})$$ \n",
    "\n",
    "where $\\theta$ represents the sigmoid function defined as, \n",
    "\n",
    "$$\\theta\\left(z\\right)=\\frac{\\mathrm{e}^z}{(1+\\mathrm{e}^z)}=\\frac{1}{(1+\\mathrm{e}^{-z})}$$\n",
    "\n",
    "The gradient of  the loss function is given by,\n",
    "\n",
    "$$\\nabla L_\\lambda(\\underline{w})=\\frac{\\partial L_\\lambda(\\underline{w})}{\\partial \\underline{w}}$$\n",
    "\n",
    "The gradient can be computed in steps with the chain rule and the following two results.\n",
    "\n",
    "$$\\frac{\\text{d}\\theta(\\log{z})}{\\text{d}z}=\\frac{1}{z}\\ \\ \\ --> Eq 1$$\n",
    "\n",
    "$$\\frac{\\text{d}\\theta(z)}{\\text{d}z}=\\theta(z)\\left(1-\\theta(z)\\right)\\ \\ \\ --> Eq 2$$\n",
    "\n",
    "Proceeding to derive the Gradient,\n",
    "\n",
    "$$\\nabla L_\\lambda(\\underline{w})=\\frac{\\partial L_\\lambda(\\underline{w})}{\\partial \\underline{w}}=\\frac{\\partial{\\left(\\frac{1}{N}\\sum\\limits_{n=1}^N\\left[-y_n\\log\\left(\\hat{y}(\\underline{x}_n)\\right)-(1-y_n)\\log\\left(1-\\hat{y}(\\underline{x}_n)\\right)\\right]+\\frac{\\lambda}{2}\\|\\underline{w}\\|_2^2\\right)}}{\\partial{\\underline{w}}}$$\n",
    "\n",
    "$$=\\frac{\\partial{\\left(\\frac{1}{N}\\sum\\limits_{n=1}^N\\left[-y_n\\log\\left(\\theta(\\underline{w}^T\\underline{x}_n)\\right)-(1-y_n)\\log\\left(1-\\theta(\\underline{w}^T\\underline{x}_n)\\right)\\right]+\\frac{\\lambda}{2}\\|\\underline{w}\\|_2^2\\right)}}{\\partial{\\underline{w}}}$$\n",
    "\n",
    "$$=\\frac{1}{N}\\sum\\limits_{n=1}^N\\left[\\frac{\\partial{\\left(-y_n\\log\\left(\\theta(\\underline{w}^T\\underline{x}_n)\\right)-(1-y_n)\\log\\left(1-\\theta(\\underline{w}^T\\underline{x}_n)\\right)\\right)}}{\\partial{\\underline{w}}}\\right]+\\lambda\\underline{w}$$\n",
    "\n",
    "$$=\\frac{1}{N}\\sum\\limits_{n=1}^N\\left[-y_n\\frac{\\partial{\\left(\\log\\left(\\theta(\\underline{w}^T\\underline{x}_n)\\right)\\right)}}{\\partial{\\underline{w}}}-(1-y_n)\\frac{\\partial{\\left(\\log\\left(1-\\theta(\\underline{w}^T\\underline{x}_n)\\right)\\right)}}{\\partial{\\underline{w}}}\\right]+\\lambda\\underline{w}$$\n",
    "\n",
    "Applying the derivative of the log function from **Eq 1** above.\n",
    "\n",
    "$$=\\frac{1}{N}\\sum\\limits_{n=1}^N\\left[\\frac{-y_{n}}{\\theta\\left(\\underline{w}^{T}\\underline{x}_n\\right)}\\frac{\\partial{\\left(\\theta\\left(\\underline{w}^{T}\\underline{x}_n\\right)\\right)}}{\\partial{\\underline{w}}}-\\frac{1-y_n}{1-\\theta(\\underline{w}^Tx_n)}\\frac{\\partial{\\left(\\theta\\left(\\underline{w}^{T}\\underline{x}_n\\right)\\right)}}{\\partial{\\underline{w}}}\\right]+\\lambda\\underline{w}$$\n",
    "\n",
    "$$=\\frac{1}{N}\\sum\\limits_{n=1}^N\\left[\\left(\\frac{-y_n}{\\theta\\left(\\underline{w}^T\\underline{x}_n\\right)}-\\frac{1-y_n}{1-\\theta\\left(\\underline{w}^T\\underline{x}_n\\right)}\\right)\\frac{\\partial{\\left(\\theta\\left(\\underline{w}^T\\underline{x}_n\\right)\\right)}}{\\partial{\\underline{w}}}\\right]+\\lambda\\underline{w}$$\n",
    "\n",
    "After some simplification,\n",
    "\n",
    "$$=\\frac{1}{N}\\sum\\limits_{n=1}^N\\left[-\\left(\\frac{y_n-\\theta\\left(\\underline{w}^T\\underline{x}\\right)}{\\theta\\left(\\underline{w}^T\\underline{x}_n\\right)\\left(1-\\theta\\left(\\underline{w}^T\\underline{x}_n\\right)\\right)}\\right)\\frac{\\partial{\\left(\\theta\\left(\\underline{w}^T\\underline{x}_n\\right)\\right)}}{\\partial{\\underline{w}}}\\right]+\\lambda\\underline{w}$$\n",
    "\n",
    "Applying the derivative of the sigmoid function from **Eq 2** above.\n",
    "\n",
    "$$=\\frac{1}{N}\\sum\\limits_{n=1}^N\\left[-\\left(\\frac{y_n-\\theta\\left(\\underline{w}^T\\underline{x}_n\\right)}{\\theta\\left(\\underline{w}^T\\underline{x}_n\\right)\\left(1-\\theta\\left(\\underline{w}^T\\underline{x}_n\\right)\\right)}\\right)\\left(\\theta\\left(\\underline{w}^T\\underline{x}_n\\right)\\left(1-\\theta\\left(\\underline{w}^T\\underline{x}_n\\right)\\right)\\right)\\frac{\\partial{\\left(\\underline{w}^T\\underline{x}_n\\right)}}{\\partial{\\underline{w}}}\\right]+\\lambda\\underline{w}$$\n",
    "\n",
    "$$=\\frac{1}{N}\\sum\\limits_{n=1}^N\\left[\\underline{x}_n\\left(\\theta\\left(\\underline{w}^T\\underline{x}_n\\right)-y_n\\right)\\right]+\\lambda\\underline{w}$$\n",
    "\n",
    "Therefore, the analytical expression for the gradient of the regularized cross-entropy loss with respect to the weight vector is given by \n",
    "\n",
    "$$\\nabla L_\\lambda(\\underline{w})=\\frac{\\partial L_\\lambda(\\underline{w})}{\\partial \\underline{w}}=\\frac{1}{N}\\sum\\limits_{n=1}^N\\left[\\underline{x}_n\\left(\\theta\\left(\\underline{w}^T\\underline{x}_n\\right)-y_n\\right)\\right]+\\lambda\\underline{w}$$"
   ]
  },
  {
   "cell_type": "markdown",
   "metadata": {
    "deletable": false,
    "editable": false,
    "nbgrader": {
     "cell_type": "markdown",
     "checksum": "20569096badf58c8909bc82a5df77f5b",
     "grade": false,
     "grade_id": "cell-8f0c5afca5e9d417",
     "locked": true,
     "schema_version": 3,
     "solution": false,
     "task": false
    }
   },
   "source": [
    "Implement a function to compute the gradient. The function has four input arguments: the weight vector, the feature vectors, the labels, and the regularization parameter. It returns the gradient."
   ]
  },
  {
   "cell_type": "code",
   "execution_count": 9,
   "metadata": {
    "deletable": false,
    "nbgrader": {
     "cell_type": "code",
     "checksum": "f8488b92818298680af5f1328ae5f347",
     "grade": true,
     "grade_id": "cell-b39c8177911aa256",
     "locked": false,
     "points": 2,
     "schema_version": 3,
     "solution": true,
     "task": false
    }
   },
   "outputs": [],
   "source": [
    "def gradCE(w, x, y, reg):\n",
    "    theta = sigmoid(np.matmul(x,w))\n",
    "    theta = theta - y\n",
    "    grad = ((np.matmul(x.T,theta))/y.size)+(reg*w)\n",
    "    return grad"
   ]
  },
  {
   "cell_type": "markdown",
   "metadata": {
    "deletable": false,
    "editable": false,
    "nbgrader": {
     "cell_type": "markdown",
     "checksum": "4f73e7673edffccd37ae61138a708241",
     "grade": false,
     "grade_id": "cell-e62e6251dc4d5a69",
     "locked": true,
     "schema_version": 3,
     "solution": false,
     "task": false
    }
   },
   "source": [
    "### Gradient Descent Implementation [5 points]\n",
    "Using the gradient and cross-entropy loss function above, implement the batch gradient descent algorithm. The function should accept seven arguments: the weight vector, the feature vectors, the labels, the learning rate, the number of epochs, the regularization parameter, and an error tolerance (set to $10^{-7}$ for the experiments). The error tolerance will be used to terminate the gradient descent early, if the difference (i.e., its 2-norm) between the old and updated weights after one iteration is below the error tolerance. The function should return the optimized weight vector and the learning error. "
   ]
  },
  {
   "cell_type": "code",
   "execution_count": 10,
   "metadata": {
    "deletable": false,
    "nbgrader": {
     "cell_type": "code",
     "checksum": "0b2882a29db4cb0850585ece871680d6",
     "grade": true,
     "grade_id": "cell-df585dbae385a61c",
     "locked": false,
     "points": 5,
     "schema_version": 3,
     "solution": true,
     "task": false
    }
   },
   "outputs": [],
   "source": [
    "def grad_descent(w, x, y, eta, iterations, reg, error_tol):\n",
    "    ceLossList = list()\n",
    "    # 1 - w is already initialized to 0\n",
    "    # 2 - Start Loop\n",
    "    while iterations>0:\n",
    "        # 3 - Compute Gradient\n",
    "        grad = gradCE(w,x,y,reg)\n",
    "        # 4 - Set Step Direction\n",
    "        stepDir = -1.0*(grad/(np.linalg.norm(grad,2)))\n",
    "        wOld = np.copy(w)\n",
    "        # 5 - Update Weights\n",
    "        w = w + (eta*stepDir)\n",
    "        # Calculate Loss\n",
    "        ceLossList.append(crossEntropyLoss(w,x,y,reg))\n",
    "        # Early Terminate - Tolerance Condition\n",
    "        if np.linalg.norm((wOld-w),2)<error_tol:\n",
    "            return w, ceLossList, iterations\n",
    "        iterations-=1\n",
    "    return w, ceLossList, iterations"
   ]
  },
  {
   "cell_type": "markdown",
   "metadata": {
    "deletable": false,
    "editable": false,
    "nbgrader": {
     "cell_type": "markdown",
     "checksum": "210fb89fe9e58d3cc7ae4d8767f0a92f",
     "grade": false,
     "grade_id": "cell-d446b8d2bb035471",
     "locked": true,
     "schema_version": 3,
     "solution": false,
     "task": false
    }
   },
   "source": [
    "### Tuning the Learning Rate [6 Points]: \n",
    "Write a script that excutes logistic regression using the gradient descent function from above to classify the two classes in the notMNIST dataset, loaded with the  `loadData` function. \n",
    "\n",
    "Set the number of epochs to $5,000$ and use the regularization parameter $\\lambda=0$. \n",
    "\n",
    "For the learning rate, consider $\\eta=5\\cdot 10^{-3},\\,10^{-3},\\,10^{-4}$.\n",
    "\n",
    "Train the classifier on the training data (`trainData, trainTarget`).\n",
    "\n",
    "The script should plot the training loss as a function of the number of training epochs and output the test loss."
   ]
  },
  {
   "cell_type": "code",
   "execution_count": 11,
   "metadata": {
    "deletable": false,
    "nbgrader": {
     "cell_type": "code",
     "checksum": "6ad70c3f83e48152234d667aaec5df51",
     "grade": true,
     "grade_id": "cell-776e56a74f0c1ff1",
     "locked": false,
     "points": 5,
     "schema_version": 3,
     "solution": true,
     "task": false
    }
   },
   "outputs": [
    {
     "data": {
      "image/png": "[encoded data removed]",
      "text/plain": [
       "<Figure size 432x288 with 1 Axes>"
      ]
     },
     "metadata": {
      "needs_background": "light"
     },
     "output_type": "display_data"
    },
    {
     "name": "stdout",
     "output_type": "stream",
     "text": [
      "Cross Entropy Loss computed for Testing Dataset at Different Eta\n",
      "\n",
      "For eta = 0.005, the Test Loss = 0.149644\n",
      "For eta = 0.001, the Test Loss = 0.089862\n",
      "For eta = 0.0001, the Test Loss = 0.146803\n"
     ]
    }
   ],
   "source": [
    "# Load Data\n",
    "d2 = loadData()\n",
    "trainData2 = d2[0].reshape(3500,-1)\n",
    "trainData2 = np.append(np.ones((trainData2.shape[0],1)),trainData2,axis=1)\n",
    "\n",
    "validData2 = d2[1].reshape(100,-1)\n",
    "validData2 = np.append(np.ones((validData2.shape[0],1)),validData2,axis=1)\n",
    "\n",
    "testData2 = d2[2].reshape(145,-1)\n",
    "testData2 = np.append(np.ones((testData2.shape[0],1)),testData2,axis=1)\n",
    "\n",
    "trainTarget2 = d2[3].astype(int)\n",
    "validTarget2 = d2[4].astype(int)\n",
    "testTarget2 = d2[5].astype(int)\n",
    "\n",
    "# Run Batch Gradient Descent\n",
    "epochs = 5000\n",
    "regParam = 0 # Lambda\n",
    "learningRate1 = 0.005 # eta1\n",
    "learningRate2 = 0.001 # eta2\n",
    "learningRate3 = 0.0001 # eta3\n",
    "errTolerance = 0.0000001 # tolerance\n",
    "\n",
    "# For Learning Rate 1\n",
    "op1 = grad_descent(np.zeros((trainData2.shape[1],1)),trainData2,trainTarget2,learningRate1,epochs,regParam,errTolerance)\n",
    "\n",
    "# For Learning Rate 2\n",
    "op2 = grad_descent(np.zeros((trainData2.shape[1],1)),trainData2,trainTarget2,learningRate2,epochs,regParam,errTolerance)\n",
    "\n",
    "# For Learning Rate 3\n",
    "op3 = grad_descent(np.zeros((trainData2.shape[1],1)),trainData2,trainTarget2,learningRate3,epochs,regParam,errTolerance)\n",
    "\n",
    "# Plots and Outputs\n",
    "plt.plot(op1[1],\"-r\",label=\"eta = 0.005\")\n",
    "plt.plot(op2[1],\"-b\",label=\"eta = 0.001\")\n",
    "plt.plot(op3[1],\"-g\",label=\"eta = 0.0001\")\n",
    "plt.xlabel('Epochs')\n",
    "plt.ylabel('Cross Entropy Loss')\n",
    "plt.legend(loc=\"upper right\")\n",
    "plt.title(\"Cross Entropy Loss vs Epochs (Training Dataset)\")\n",
    "plt.show()\n",
    "\n",
    "# Compute Loss With Test Data\n",
    "\n",
    "# With Eta = 0.005\n",
    "ceLossEta1 = crossEntropyLoss(op1[0],testData2,testTarget2,regParam)\n",
    "\n",
    "# With Eta = 0.001\n",
    "ceLossEta2 = crossEntropyLoss(op2[0],testData2,testTarget2,regParam)\n",
    "\n",
    "# With Eta = 0.0001\n",
    "ceLossEta3 = crossEntropyLoss(op3[0],testData2,testTarget2,regParam)\n",
    "\n",
    "print(\"Cross Entropy Loss computed for Testing Dataset at Different Eta\\n\")\n",
    "print(\"For eta = 0.005, the Test Loss = {:f}\".format(ceLossEta1))\n",
    "print(\"For eta = 0.001, the Test Loss = {:f}\".format(ceLossEta2))\n",
    "print(\"For eta = 0.0001, the Test Loss = {:f}\".format(ceLossEta3))"
   ]
  },
  {
   "cell_type": "markdown",
   "metadata": {
    "deletable": false,
    "editable": false,
    "nbgrader": {
     "cell_type": "markdown",
     "checksum": "f6d913fa578e2f1de303a3500bc7bbb7",
     "grade": false,
     "grade_id": "cell-c6f7f54f2dff0f79",
     "locked": true,
     "schema_version": 3,
     "solution": false,
     "task": false
    }
   },
   "source": [
    "Briefly discuss the impact of $\\eta$ on the training time. "
   ]
  },
  {
   "cell_type": "markdown",
   "metadata": {
    "deletable": false,
    "nbgrader": {
     "cell_type": "markdown",
     "checksum": "6378c65241ef1cda0ffdcfba2f93af52",
     "grade": true,
     "grade_id": "cell-6e645f7cd4e256f0",
     "locked": false,
     "points": 1,
     "schema_version": 3,
     "solution": true,
     "task": false
    }
   },
   "source": [
    "**Answer:**\n",
    "\n",
    "$\\eta$ represents the step size in the gradient descent algorithm. As can be seen from the graph above, a larger step size has been helpful in quickly getting closer to the minimum of the cross-entropy loss function. At then end of 5000 iterations, none of the three curves seem to have gotten to 0 loss yet. However, judging by the trend of the three curves, one can appreciate the fact that a lower value of $\\eta$ results in a slower descent thereby prolonging the training time. For this data set, it would be efficient to pick $\\eta=0.005$.\n",
    "\n",
    "In general though, having either a very high or very low value of $\\eta$ may not be helpful.\n",
    "\n",
    "1. **Very Small** $\\eta$ : As seen in the experiment in the prior section, a very low value of $\\eta$ can prolong training if the starting point (depends on how weights are initialized) is very far away from the minimum.\n",
    "\n",
    "\n",
    "2. **Very Large** $\\eta$ : This can prove detrimental when close to the minimum. That is, a large $\\eta$ can lead to the situation where one keeps overshooting and missing the minimum at every step.\n",
    "\n",
    "The best choice would then be to have a dynamic $\\eta$ which is large at the start but decays as the number of steps increase."
   ]
  },
  {
   "cell_type": "markdown",
   "metadata": {
    "deletable": false,
    "editable": false,
    "nbgrader": {
     "cell_type": "markdown",
     "checksum": "f98ad898635a4e20c0ba17d09b766a25",
     "grade": false,
     "grade_id": "cell-0db7ea466ea500bf",
     "locked": true,
     "schema_version": 3,
     "solution": false,
     "task": false
    }
   },
   "source": [
    "### Generalization [3 points]:\n",
    "Fix the learning rate to $\\eta=0.005$, and consider values for the regularization parameter $\\lambda = 0.001,\\, 0.01,\\, 0.1$. Measure the validation and test losses and state them in your answer below. Comment on the effect of regularization on performance as well as the rationale behind tuning $\\eta$ using the validation set."
   ]
  },
  {
   "cell_type": "markdown",
   "metadata": {
    "deletable": false,
    "nbgrader": {
     "cell_type": "markdown",
     "checksum": "7c70cce6d267ed7403506522ebda6b51",
     "grade": true,
     "grade_id": "cell-eac467078c174916",
     "locked": false,
     "points": 3,
     "schema_version": 3,
     "solution": true,
     "task": false
    }
   },
   "source": [
    "**Answer:**\n",
    "\n",
    "**Note:** There is a mistake in this question. The last sentence should be \"*Comment on the effect of regularization on performance as well as the rationale behind tuning  $\\lambda$ using the validation set.*\". As discussed on Piazza (https://piazza.com/class/k536rind5166p6?cid=48)\n",
    "\n",
    "For a fixed step size, $\\eta=0.005$. The validation and test losses have been tabulated at different values of the regularization parameter, $\\lambda$.\n",
    "\n",
    "|           |              |    Cross-Entropy  Loss      |          |\n",
    "|:---------:|:------------:|:--------------:|:--------:|\n",
    "| $\\lambda$ | Training Set | Validation Set | Test Set |\n",
    "|     0     |   0.003820   |    0.173047    | 0.150299 |\n",
    "|   0.001   |   0.033632   |    0.107379    | 0.099225 |\n",
    "|    0.01   |   0.060219   |    0.105983    | 0.100137 |\n",
    "|    0.1    |   0.113885   |    0.145799    | 0.135534 |\n",
    "\n",
    "**Effect of $\\lambda$ on Performance:**\n",
    "\n",
    "The regularization parameter, $\\lambda$ is used to control overfitting. \n",
    "\n",
    "As can be seen in the table above at $\\lambda=0$, the model has a very low training error but a very high test error which indicates overfitting. Likewise, a higher value ($\\lambda=0.1$) has resulted in hight training as well as test errors.\n",
    "\n",
    "The best choice of $\\lambda$ seems to be a very small non-zero value. In the case above, $0.001$ and $0.01$ seem to be good choices for $\\lambda$. [the differences in errors between $\\lambda=0.001$ and $\\lambda=0.01$ are $\\triangle E_{Valid}=0.0013$ and $\\triangle E_{Test}=0.000912$]\n",
    "\n",
    "**Need for a Validation Set:**\n",
    "\n",
    "The validation set is a portion of the original dataset that is kept aside just like the test set. The validation set is similar to the test set in that neither is used to train the model and both are used to estimate the out-of-sample error. They differ in the fact that the validation set is still used to tune hyper parameters (like $\\lambda$) that affect the model.\n",
    "\n",
    "The training process invloves selection of different hyperparameters. Since the validation set was not itself used to train the model, it can serve as an unbiased way to measure the effectiveness of different combinations of hyperparameters. That is, one can train the model independently using different combinations of hyperparameters (say different $\\lambda$) and then evaluate the performance of each combination using the validation set. This way, the best set of hyperparameters can be chosen.\n",
    "\n",
    "Finally, the test set can be used to evaluate the fully trained model (with appropriately chosen hyperparameters) to get a sense of how well the model generalizes. In addition, the test set can also serve as a basis of comparison for different models."
   ]
  }
 ],
 "metadata": {
  "kernelspec": {
   "display_name": "Python 3",
   "language": "python",
   "name": "python3"
  },
  "language_info": {
   "codemirror_mode": {
    "name": "ipython",
    "version": 3
   },
   "file_extension": ".py",
   "mimetype": "text/x-python",
   "name": "python",
   "nbconvert_exporter": "python",
   "pygments_lexer": "ipython3",
   "version": "3.7.3"
  }
 },
 "nbformat": 4,
 "nbformat_minor": 2
}
